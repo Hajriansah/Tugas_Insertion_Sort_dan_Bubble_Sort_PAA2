{
  "nbformat": 4,
  "nbformat_minor": 0,
  "metadata": {
    "colab": {
      "provenance": []
    },
    "kernelspec": {
      "name": "python3",
      "display_name": "Python 3"
    },
    "language_info": {
      "name": "python"
    }
  },
  "cells": [
    {
      "cell_type": "code",
      "execution_count": 4,
      "metadata": {
        "colab": {
          "base_uri": "https://localhost:8080/"
        },
        "id": "TTaFW-hW6xVu",
        "outputId": "c3e87b75-f175-4e0a-8803-f390a9e15512"
      },
      "outputs": [
        {
          "output_type": "stream",
          "name": "stdout",
          "text": [
            "Array awal:  [24, 13, 39, 9, 68, 41, 53, 70]\n",
            "Iterasi 1: [13, 24, 39, 9, 68, 41, 53, 70]\n",
            "Iterasi 2: [13, 24, 39, 9, 68, 41, 53, 70]\n",
            "Iterasi 3: [9, 13, 24, 39, 68, 41, 53, 70]\n",
            "Iterasi 4: [9, 13, 24, 39, 68, 41, 53, 70]\n",
            "Iterasi 5: [9, 13, 24, 39, 41, 68, 53, 70]\n",
            "Iterasi 6: [9, 13, 24, 39, 41, 53, 68, 70]\n",
            "Iterasi 7: [9, 13, 24, 39, 41, 53, 68, 70]\n",
            "Hasil Insertion Sort:\n",
            "[9, 13, 24, 39, 41, 53, 68, 70]\n",
            "\n",
            "Array awal:  [24, 13, 39, 9, 68, 41, 53, 70]\n",
            "Iterasi 1: [13, 24, 9, 39, 41, 53, 68, 70]\n",
            "Iterasi 2: [13, 9, 24, 39, 41, 53, 68, 70]\n",
            "Iterasi 3: [9, 13, 24, 39, 41, 53, 68, 70]\n",
            "Iterasi 4: [9, 13, 24, 39, 41, 53, 68, 70]\n",
            "Iterasi 5: [9, 13, 24, 39, 41, 53, 68, 70]\n",
            "Iterasi 6: [9, 13, 24, 39, 41, 53, 68, 70]\n",
            "Iterasi 7: [9, 13, 24, 39, 41, 53, 68, 70]\n",
            "Iterasi 8: [9, 13, 24, 39, 41, 53, 68, 70]\n",
            "Hasil Bubble Sort:\n",
            "[9, 13, 24, 39, 41, 53, 68, 70]\n"
          ]
        }
      ],
      "source": [
        "def insertion_sort(arr):\n",
        "    for i in range(1, len(arr)):\n",
        "        key = arr[i]\n",
        "        j = i - 1\n",
        "        while j >= 0 and arr[j] > key:\n",
        "            arr[j + 1] = arr[j]\n",
        "            j -= 1\n",
        "        arr[j + 1] = key\n",
        "        print(f\"Iterasi {i}: {arr}\")\n",
        "\n",
        "def bubble_sort(arr):\n",
        "    n = len(arr)\n",
        "    for i in range(n):\n",
        "        for j in range(0, n - i - 1):\n",
        "            if arr[j] > arr[j + 1]:\n",
        "                arr[j], arr[j + 1] = arr[j + 1], arr[j]\n",
        "        print(f\"Iterasi {i + 1}: {arr}\")\n",
        "\n",
        "# Pengujian algoritma Insertion Sort\n",
        "arr_insertion = [24, 13, 39, 9, 68, 41, 53, 70]\n",
        "print(\"Array awal: \", arr_insertion)\n",
        "insertion_sort(arr_insertion)\n",
        "print(\"Hasil Insertion Sort:\")\n",
        "print(arr_insertion)\n",
        "\n",
        "# Pengujian algoritma Bubble Sort\n",
        "arr_bubble = [24, 13, 39, 9, 68, 41, 53, 70]\n",
        "print(\"\\nArray awal: \", arr_bubble)\n",
        "bubble_sort(arr_bubble)\n",
        "print(\"Hasil Bubble Sort:\")\n",
        "print(arr_bubble)\n"
      ]
    },
    {
      "cell_type": "markdown",
      "source": [
        "Dalam kasus kode program yang diberikan di atas, baik algoritma Insertion Sort maupun Bubble Sort menghasilkan hasil pengurutan yang sama. Namun, jika kita membahas tentang efisiensi algoritma, Insertion Sort cenderung lebih efisien daripada Bubble Sort.\n",
        "\n",
        "Algoritma Insertion Sort memiliki kompleksitas waktu rata-rata O(n^2), di mana \"n\" adalah jumlah elemen dalam array. Meskipun kompleksitasnya sama dengan Bubble Sort, Insertion Sort cenderung lebih cepat dalam praktek karena memiliki jumlah perbandingan dan pertukaran yang lebih sedikit.\n",
        "\n",
        "Sementara itu, Bubble Sort memiliki kompleksitas waktu rata-rata O(n^2) juga. Tetapi Bubble Sort sering kali membutuhkan lebih banyak perbandingan dan pertukaran dibandingkan dengan Insertion Sort, karena dalam setiap iterasi Bubble Sort membandingkan dan menukar pasangan elemen yang berdekatan secara berulang.\n",
        "\n",
        "Jadi, secara umum, jika kita mempertimbangkan efisiensi dan kinerja, Insertion Sort cenderung menjadi pilihan yang lebih baik daripada Bubble Sort. Tetapi untuk jumlah elemen yang sangat kecil atau array yang hampir terurut, Bubble Sort mungkin memiliki kinerja yang lebih baik karena memiliki sedikit overhead."
      ],
      "metadata": {
        "id": "nb8ONsWl9Nd-"
      }
    }
  ]
}